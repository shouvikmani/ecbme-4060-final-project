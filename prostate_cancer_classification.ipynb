{
 "cells": [
  {
   "cell_type": "markdown",
   "id": "passive-methodology",
   "metadata": {},
   "source": [
    "# Prostate Cancer Classification"
   ]
  },
  {
   "cell_type": "markdown",
   "id": "median-jones",
   "metadata": {},
   "source": [
    "In this notebook, we train a machine learning model to predict whether a patient has primary or metastatic prostate cancer on the basis of their genomic profiles (RNA sequencing). Through exploratory analysis and machine learning, we show that there is strong predictive signal for cancer state classification using normalized gene expression features. We also interpret the model and investigate the genes which are the greatest contributors to metastatic prostate cancer according to the model."
   ]
  },
  {
   "cell_type": "code",
   "execution_count": 1,
   "id": "impossible-monitoring",
   "metadata": {},
   "outputs": [],
   "source": [
    "import numpy as np\n",
    "import pandas as pd\n",
    "import matplotlib.pyplot as plt\n",
    "%matplotlib inline\n",
    "from sklearn.decomposition import PCA\n",
    "from sklearn.manifold import TSNE\n",
    "from sklearn.feature_selection import mutual_info_classif\n",
    "from sklearn.linear_model import LogisticRegression\n",
    "from sklearn.metrics import accuracy_score, balanced_accuracy_score, roc_auc_score, f1_score\n",
    "from sklearn.metrics import confusion_matrix, ConfusionMatrixDisplay"
   ]
  },
  {
   "cell_type": "markdown",
   "id": "successful-broadcasting",
   "metadata": {},
   "source": [
    "## Data loading and preprocessing"
   ]
  },
  {
   "cell_type": "markdown",
   "id": "transsexual-january",
   "metadata": {},
   "source": [
    "Load TPM normalized gene expression features"
   ]
  },
  {
   "cell_type": "code",
   "execution_count": 2,
   "id": "technological-visit",
   "metadata": {},
   "outputs": [
    {
     "name": "stdout",
     "output_type": "stream",
     "text": [
      "(659, 19192)\n"
     ]
    },
    {
     "data": {
      "text/html": [
       "<div>\n",
       "<style scoped>\n",
       "    .dataframe tbody tr th:only-of-type {\n",
       "        vertical-align: middle;\n",
       "    }\n",
       "\n",
       "    .dataframe tbody tr th {\n",
       "        vertical-align: top;\n",
       "    }\n",
       "\n",
       "    .dataframe thead th {\n",
       "        text-align: right;\n",
       "    }\n",
       "</style>\n",
       "<table border=\"1\" class=\"dataframe\">\n",
       "  <thead>\n",
       "    <tr style=\"text-align: right;\">\n",
       "      <th></th>\n",
       "      <th>TSPAN6</th>\n",
       "      <th>TNMD</th>\n",
       "      <th>DPM1</th>\n",
       "      <th>SCYL3</th>\n",
       "      <th>C1orf112</th>\n",
       "      <th>FGR</th>\n",
       "      <th>CFH</th>\n",
       "      <th>FUCA2</th>\n",
       "      <th>GCLC</th>\n",
       "      <th>NFYA</th>\n",
       "      <th>...</th>\n",
       "      <th>H2BE1</th>\n",
       "      <th>GET1-SH3BGR</th>\n",
       "      <th>SPDYE15</th>\n",
       "      <th>NOTCH2NLB</th>\n",
       "      <th>SPDYE13</th>\n",
       "      <th>ASDURF</th>\n",
       "      <th>SPEGNB</th>\n",
       "      <th>SPDYE14</th>\n",
       "      <th>DERPC</th>\n",
       "      <th>NOTCH2NLC</th>\n",
       "    </tr>\n",
       "    <tr>\n",
       "      <th>Tumor_Sample_Barcode</th>\n",
       "      <th></th>\n",
       "      <th></th>\n",
       "      <th></th>\n",
       "      <th></th>\n",
       "      <th></th>\n",
       "      <th></th>\n",
       "      <th></th>\n",
       "      <th></th>\n",
       "      <th></th>\n",
       "      <th></th>\n",
       "      <th></th>\n",
       "      <th></th>\n",
       "      <th></th>\n",
       "      <th></th>\n",
       "      <th></th>\n",
       "      <th></th>\n",
       "      <th></th>\n",
       "      <th></th>\n",
       "      <th></th>\n",
       "      <th></th>\n",
       "      <th></th>\n",
       "    </tr>\n",
       "  </thead>\n",
       "  <tbody>\n",
       "    <tr>\n",
       "      <th>TCGA-EJ-5499</th>\n",
       "      <td>60.67</td>\n",
       "      <td>0.05</td>\n",
       "      <td>41.57</td>\n",
       "      <td>9.29</td>\n",
       "      <td>3.16</td>\n",
       "      <td>2.29</td>\n",
       "      <td>9.87</td>\n",
       "      <td>38.64</td>\n",
       "      <td>27.14</td>\n",
       "      <td>14.56</td>\n",
       "      <td>...</td>\n",
       "      <td>0.00</td>\n",
       "      <td>0.38</td>\n",
       "      <td>0.0</td>\n",
       "      <td>27.48</td>\n",
       "      <td>0.0</td>\n",
       "      <td>3.14</td>\n",
       "      <td>0.39</td>\n",
       "      <td>0.0</td>\n",
       "      <td>19.24</td>\n",
       "      <td>2.06</td>\n",
       "    </tr>\n",
       "    <tr>\n",
       "      <th>MO_1012</th>\n",
       "      <td>35.08</td>\n",
       "      <td>0.00</td>\n",
       "      <td>31.77</td>\n",
       "      <td>5.27</td>\n",
       "      <td>12.04</td>\n",
       "      <td>1.21</td>\n",
       "      <td>11.49</td>\n",
       "      <td>32.28</td>\n",
       "      <td>18.38</td>\n",
       "      <td>22.13</td>\n",
       "      <td>...</td>\n",
       "      <td>0.00</td>\n",
       "      <td>0.00</td>\n",
       "      <td>0.0</td>\n",
       "      <td>13.94</td>\n",
       "      <td>0.0</td>\n",
       "      <td>19.29</td>\n",
       "      <td>0.00</td>\n",
       "      <td>0.0</td>\n",
       "      <td>0.00</td>\n",
       "      <td>5.27</td>\n",
       "    </tr>\n",
       "    <tr>\n",
       "      <th>TCGA-CH-5752</th>\n",
       "      <td>9.52</td>\n",
       "      <td>0.05</td>\n",
       "      <td>40.66</td>\n",
       "      <td>9.80</td>\n",
       "      <td>3.90</td>\n",
       "      <td>1.86</td>\n",
       "      <td>5.15</td>\n",
       "      <td>65.91</td>\n",
       "      <td>19.42</td>\n",
       "      <td>23.03</td>\n",
       "      <td>...</td>\n",
       "      <td>0.09</td>\n",
       "      <td>0.17</td>\n",
       "      <td>0.0</td>\n",
       "      <td>15.34</td>\n",
       "      <td>0.0</td>\n",
       "      <td>5.40</td>\n",
       "      <td>0.78</td>\n",
       "      <td>0.0</td>\n",
       "      <td>19.91</td>\n",
       "      <td>5.42</td>\n",
       "    </tr>\n",
       "    <tr>\n",
       "      <th>SC_9126</th>\n",
       "      <td>9.88</td>\n",
       "      <td>0.08</td>\n",
       "      <td>82.23</td>\n",
       "      <td>8.36</td>\n",
       "      <td>40.20</td>\n",
       "      <td>6.96</td>\n",
       "      <td>17.35</td>\n",
       "      <td>49.75</td>\n",
       "      <td>115.81</td>\n",
       "      <td>34.24</td>\n",
       "      <td>...</td>\n",
       "      <td>0.00</td>\n",
       "      <td>4.43</td>\n",
       "      <td>0.0</td>\n",
       "      <td>0.00</td>\n",
       "      <td>0.0</td>\n",
       "      <td>4.55</td>\n",
       "      <td>1.25</td>\n",
       "      <td>0.0</td>\n",
       "      <td>22.58</td>\n",
       "      <td>0.23</td>\n",
       "    </tr>\n",
       "    <tr>\n",
       "      <th>PROS01448-6115227-SM-67ERU</th>\n",
       "      <td>20.26</td>\n",
       "      <td>0.08</td>\n",
       "      <td>53.89</td>\n",
       "      <td>10.19</td>\n",
       "      <td>6.66</td>\n",
       "      <td>0.43</td>\n",
       "      <td>1.67</td>\n",
       "      <td>54.36</td>\n",
       "      <td>58.44</td>\n",
       "      <td>32.36</td>\n",
       "      <td>...</td>\n",
       "      <td>0.00</td>\n",
       "      <td>0.20</td>\n",
       "      <td>0.0</td>\n",
       "      <td>4.98</td>\n",
       "      <td>0.0</td>\n",
       "      <td>1.20</td>\n",
       "      <td>0.17</td>\n",
       "      <td>0.0</td>\n",
       "      <td>5.18</td>\n",
       "      <td>2.05</td>\n",
       "    </tr>\n",
       "  </tbody>\n",
       "</table>\n",
       "<p>5 rows × 19192 columns</p>\n",
       "</div>"
      ],
      "text/plain": [
       "                            TSPAN6  TNMD   DPM1  SCYL3  C1orf112   FGR    CFH  \\\n",
       "Tumor_Sample_Barcode                                                            \n",
       "TCGA-EJ-5499                 60.67  0.05  41.57   9.29      3.16  2.29   9.87   \n",
       "MO_1012                      35.08  0.00  31.77   5.27     12.04  1.21  11.49   \n",
       "TCGA-CH-5752                  9.52  0.05  40.66   9.80      3.90  1.86   5.15   \n",
       "SC_9126                       9.88  0.08  82.23   8.36     40.20  6.96  17.35   \n",
       "PROS01448-6115227-SM-67ERU   20.26  0.08  53.89  10.19      6.66  0.43   1.67   \n",
       "\n",
       "                            FUCA2    GCLC   NFYA  ...  H2BE1  GET1-SH3BGR  \\\n",
       "Tumor_Sample_Barcode                              ...                       \n",
       "TCGA-EJ-5499                38.64   27.14  14.56  ...   0.00         0.38   \n",
       "MO_1012                     32.28   18.38  22.13  ...   0.00         0.00   \n",
       "TCGA-CH-5752                65.91   19.42  23.03  ...   0.09         0.17   \n",
       "SC_9126                     49.75  115.81  34.24  ...   0.00         4.43   \n",
       "PROS01448-6115227-SM-67ERU  54.36   58.44  32.36  ...   0.00         0.20   \n",
       "\n",
       "                            SPDYE15  NOTCH2NLB  SPDYE13  ASDURF  SPEGNB  \\\n",
       "Tumor_Sample_Barcode                                                      \n",
       "TCGA-EJ-5499                    0.0      27.48      0.0    3.14    0.39   \n",
       "MO_1012                         0.0      13.94      0.0   19.29    0.00   \n",
       "TCGA-CH-5752                    0.0      15.34      0.0    5.40    0.78   \n",
       "SC_9126                         0.0       0.00      0.0    4.55    1.25   \n",
       "PROS01448-6115227-SM-67ERU      0.0       4.98      0.0    1.20    0.17   \n",
       "\n",
       "                            SPDYE14  DERPC  NOTCH2NLC  \n",
       "Tumor_Sample_Barcode                                   \n",
       "TCGA-EJ-5499                    0.0  19.24       2.06  \n",
       "MO_1012                         0.0   0.00       5.27  \n",
       "TCGA-CH-5752                    0.0  19.91       5.42  \n",
       "SC_9126                         0.0  22.58       0.23  \n",
       "PROS01448-6115227-SM-67ERU      0.0   5.18       2.05  \n",
       "\n",
       "[5 rows x 19192 columns]"
      ]
     },
     "execution_count": 2,
     "metadata": {},
     "output_type": "execute_result"
    }
   ],
   "source": [
    "gene_expression_df = pd.read_csv('data/P1000_data_tpm.csv', index_col='Tumor_Sample_Barcode')\n",
    "print(gene_expression_df.shape)\n",
    "gene_expression_df.head()"
   ]
  },
  {
   "cell_type": "markdown",
   "id": "norman-musician",
   "metadata": {},
   "source": [
    "Load cancer state labels (0 = primary cancer, 1 = metastatic cancer)"
   ]
  },
  {
   "cell_type": "code",
   "execution_count": 3,
   "id": "interstate-framework",
   "metadata": {},
   "outputs": [
    {
     "name": "stdout",
     "output_type": "stream",
     "text": [
      "(659, 1)\n"
     ]
    },
    {
     "data": {
      "text/html": [
       "<div>\n",
       "<style scoped>\n",
       "    .dataframe tbody tr th:only-of-type {\n",
       "        vertical-align: middle;\n",
       "    }\n",
       "\n",
       "    .dataframe tbody tr th {\n",
       "        vertical-align: top;\n",
       "    }\n",
       "\n",
       "    .dataframe thead th {\n",
       "        text-align: right;\n",
       "    }\n",
       "</style>\n",
       "<table border=\"1\" class=\"dataframe\">\n",
       "  <thead>\n",
       "    <tr style=\"text-align: right;\">\n",
       "      <th></th>\n",
       "      <th>response</th>\n",
       "    </tr>\n",
       "    <tr>\n",
       "      <th>Tumor_Sample_Barcode</th>\n",
       "      <th></th>\n",
       "    </tr>\n",
       "  </thead>\n",
       "  <tbody>\n",
       "    <tr>\n",
       "      <th>TCGA-EJ-5499</th>\n",
       "      <td>0</td>\n",
       "    </tr>\n",
       "    <tr>\n",
       "      <th>MO_1012</th>\n",
       "      <td>1</td>\n",
       "    </tr>\n",
       "    <tr>\n",
       "      <th>TCGA-CH-5752</th>\n",
       "      <td>0</td>\n",
       "    </tr>\n",
       "    <tr>\n",
       "      <th>SC_9126</th>\n",
       "      <td>1</td>\n",
       "    </tr>\n",
       "    <tr>\n",
       "      <th>PROS01448-6115227-SM-67ERU</th>\n",
       "      <td>1</td>\n",
       "    </tr>\n",
       "  </tbody>\n",
       "</table>\n",
       "</div>"
      ],
      "text/plain": [
       "                            response\n",
       "Tumor_Sample_Barcode                \n",
       "TCGA-EJ-5499                       0\n",
       "MO_1012                            1\n",
       "TCGA-CH-5752                       0\n",
       "SC_9126                            1\n",
       "PROS01448-6115227-SM-67ERU         1"
      ]
     },
     "execution_count": 3,
     "metadata": {},
     "output_type": "execute_result"
    }
   ],
   "source": [
    "response = pd.read_csv('data/response_paper.csv', index_col='id')\n",
    "response = response.loc[gene_expression_df.index]\n",
    "print(response.shape)\n",
    "response.head()"
   ]
  },
  {
   "cell_type": "markdown",
   "id": "operational-johns",
   "metadata": {},
   "source": [
    "Look at distribution of the labels"
   ]
  },
  {
   "cell_type": "code",
   "execution_count": 4,
   "id": "classical-validity",
   "metadata": {},
   "outputs": [
    {
     "data": {
      "text/plain": [
       "0    0.69044\n",
       "1    0.30956\n",
       "Name: response, dtype: float64"
      ]
     },
     "execution_count": 4,
     "metadata": {},
     "output_type": "execute_result"
    }
   ],
   "source": [
    "response['response'].value_counts(normalize=True)"
   ]
  },
  {
   "cell_type": "markdown",
   "id": "united-fruit",
   "metadata": {},
   "source": [
    "Perform train/test split"
   ]
  },
  {
   "cell_type": "code",
   "execution_count": 5,
   "id": "amino-shape",
   "metadata": {},
   "outputs": [
    {
     "name": "stdout",
     "output_type": "stream",
     "text": [
      "X_train dimensions: (592, 19192)\n",
      "y_train dimensions: (592,)\n",
      "X_test dimensions: (67, 19192)\n",
      "y_test dimensions: (67,)\n"
     ]
    }
   ],
   "source": [
    "test_set_ids = pd.read_csv('data/test_set.csv')['id']\n",
    "\n",
    "X_train = gene_expression_df[~gene_expression_df.index.isin(test_set_ids)]\n",
    "y_train = response[~response.index.isin(test_set_ids)]['response']\n",
    "X_test = gene_expression_df[gene_expression_df.index.isin(test_set_ids)]\n",
    "y_test = response[response.index.isin(test_set_ids)]['response']\n",
    "\n",
    "print(\"X_train dimensions:\", X_train.shape)\n",
    "print(\"y_train dimensions:\", y_train.shape)\n",
    "print(\"X_test dimensions:\", X_test.shape)\n",
    "print(\"y_test dimensions:\", y_test.shape)"
   ]
  },
  {
   "cell_type": "markdown",
   "id": "proud-annex",
   "metadata": {},
   "source": [
    "## Machine learning to classify prostate cancer state"
   ]
  },
  {
   "cell_type": "markdown",
   "id": "latin-peter",
   "metadata": {},
   "source": [
    "Project gene expression matrix onto two dimensions using t-SNE to see if there is predictive signal for cancer state classification"
   ]
  },
  {
   "cell_type": "code",
   "execution_count": 9,
   "id": "infectious-integer",
   "metadata": {},
   "outputs": [
    {
     "data": {
      "text/plain": [
       "Text(0, 0.5, 't-SNE 2')"
      ]
     },
     "execution_count": 9,
     "metadata": {},
     "output_type": "execute_result"
    },
    {
     "data": {
      "image/png": "[encoded data removed]",
      "text/plain": [
       "<Figure size 576x360 with 1 Axes>"
      ]
     },
     "metadata": {
      "needs_background": "light"
     },
     "output_type": "display_data"
    }
   ],
   "source": [
    "gene_expression_pca = PCA(n_components=20).fit_transform(X_train)\n",
    "gene_expression_tsne = TSNE(n_components=2, random_state=0).fit_transform(gene_expression_pca)\n",
    "\n",
    "plt.figure(figsize=(8, 5))\n",
    "colors=['tab:blue', 'tab:red']\n",
    "for i, class_ in enumerate(['Primary', 'Metastatic']):\n",
    "    plt.scatter(gene_expression_tsne[y_train == i, 0], \n",
    "                gene_expression_tsne[y_train == i, 1],\n",
    "                c=colors[i], s=15, label=class_)\n",
    "plt.legend(fontsize=12)\n",
    "plt.xlabel('t-SNE 1', fontsize=12)\n",
    "plt.ylabel('t-SNE 2', fontsize=12)"
   ]
  },
  {
   "cell_type": "markdown",
   "id": "weighted-regulation",
   "metadata": {},
   "source": [
    "Feature selection using mutual information between gene expression and cancer state"
   ]
  },
  {
   "cell_type": "code",
   "execution_count": 10,
   "id": "latin-trick",
   "metadata": {},
   "outputs": [
    {
     "data": {
      "text/html": [
       "<div>\n",
       "<style scoped>\n",
       "    .dataframe tbody tr th:only-of-type {\n",
       "        vertical-align: middle;\n",
       "    }\n",
       "\n",
       "    .dataframe tbody tr th {\n",
       "        vertical-align: top;\n",
       "    }\n",
       "\n",
       "    .dataframe thead th {\n",
       "        text-align: right;\n",
       "    }\n",
       "</style>\n",
       "<table border=\"1\" class=\"dataframe\">\n",
       "  <thead>\n",
       "    <tr style=\"text-align: right;\">\n",
       "      <th></th>\n",
       "      <th>feature</th>\n",
       "      <th>mi</th>\n",
       "    </tr>\n",
       "  </thead>\n",
       "  <tbody>\n",
       "    <tr>\n",
       "      <th>2575</th>\n",
       "      <td>PAGE4</td>\n",
       "      <td>0.519929</td>\n",
       "    </tr>\n",
       "    <tr>\n",
       "      <th>12280</th>\n",
       "      <td>AR</td>\n",
       "      <td>0.516467</td>\n",
       "    </tr>\n",
       "    <tr>\n",
       "      <th>18536</th>\n",
       "      <td>NACA2</td>\n",
       "      <td>0.516072</td>\n",
       "    </tr>\n",
       "    <tr>\n",
       "      <th>18918</th>\n",
       "      <td>GTF2H5</td>\n",
       "      <td>0.511085</td>\n",
       "    </tr>\n",
       "    <tr>\n",
       "      <th>18862</th>\n",
       "      <td>MTRNR2L12</td>\n",
       "      <td>0.508790</td>\n",
       "    </tr>\n",
       "  </tbody>\n",
       "</table>\n",
       "</div>"
      ],
      "text/plain": [
       "         feature        mi\n",
       "2575       PAGE4  0.519929\n",
       "12280         AR  0.516467\n",
       "18536      NACA2  0.516072\n",
       "18918     GTF2H5  0.511085\n",
       "18862  MTRNR2L12  0.508790"
      ]
     },
     "execution_count": 10,
     "metadata": {},
     "output_type": "execute_result"
    }
   ],
   "source": [
    "midf = pd.DataFrame({\n",
    "    \"feature\": X_train.columns.values,\n",
    "    \"mi\": mutual_info_classif(X_train, y_train),\n",
    "}).sort_values(\"mi\", ascending=False)\n",
    "\n",
    "midf.head()"
   ]
  },
  {
   "cell_type": "code",
   "execution_count": 11,
   "id": "buried-lambda",
   "metadata": {},
   "outputs": [
    {
     "data": {
      "text/plain": [
       "Text(0.5, 0, 'Feature (gene) index')"
      ]
     },
     "execution_count": 11,
     "metadata": {},
     "output_type": "execute_result"
    },
    {
     "data": {
      "image/png": "[encoded data removed]",
      "text/plain": [
       "<Figure size 576x360 with 1 Axes>"
      ]
     },
     "metadata": {
      "needs_background": "light"
     },
     "output_type": "display_data"
    }
   ],
   "source": [
    "plt.figure(figsize=(8, 5))\n",
    "plt.plot(np.arange(1000), midf.mi.iloc[:1000])\n",
    "plt.ylabel('Mutual information', fontsize=14)\n",
    "plt.xlabel('Feature (gene) index', fontsize=14)"
   ]
  },
  {
   "cell_type": "markdown",
   "id": "functioning-pearl",
   "metadata": {},
   "source": [
    "Filter top features based on mutual information"
   ]
  },
  {
   "cell_type": "code",
   "execution_count": 12,
   "id": "defensive-center",
   "metadata": {},
   "outputs": [
    {
     "data": {
      "text/plain": [
       "171"
      ]
     },
     "execution_count": 12,
     "metadata": {},
     "output_type": "execute_result"
    }
   ],
   "source": [
    "midf_cutoff = 0.4\n",
    "features = midf[midf.mi > midf_cutoff]['feature']\n",
    "len(features)"
   ]
  },
  {
   "cell_type": "markdown",
   "id": "recorded-contamination",
   "metadata": {},
   "source": [
    "Train a prostate cancer state (primary vs metastatic) classification model"
   ]
  },
  {
   "cell_type": "code",
   "execution_count": 13,
   "id": "contrary-handle",
   "metadata": {},
   "outputs": [
    {
     "name": "stderr",
     "output_type": "stream",
     "text": [
      "/opt/anaconda3/lib/python3.8/site-packages/sklearn/linear_model/_logistic.py:763: ConvergenceWarning: lbfgs failed to converge (status=1):\n",
      "STOP: TOTAL NO. of ITERATIONS REACHED LIMIT.\n",
      "\n",
      "Increase the number of iterations (max_iter) or scale the data as shown in:\n",
      "    https://scikit-learn.org/stable/modules/preprocessing.html\n",
      "Please also refer to the documentation for alternative solver options:\n",
      "    https://scikit-learn.org/stable/modules/linear_model.html#logistic-regression\n",
      "  n_iter_i = _check_optimize_result(\n"
     ]
    },
    {
     "data": {
      "text/plain": [
       "LogisticRegression()"
      ]
     },
     "execution_count": 13,
     "metadata": {},
     "output_type": "execute_result"
    }
   ],
   "source": [
    "model = LogisticRegression()\n",
    "model.fit(X_train[features], y_train)"
   ]
  },
  {
   "cell_type": "code",
   "execution_count": 14,
   "id": "worse-entity",
   "metadata": {},
   "outputs": [],
   "source": [
    "def performance_scores(y_true, y_pred_score, y_pred=None):\n",
    "    # We can find which class has the highest score as its predicted class\n",
    "    if y_pred is None:\n",
    "        y_pred = y_pred_score.idxmax(axis=1)\n",
    "        \n",
    "    return {\n",
    "        \"accuracy\": accuracy_score(y_true, y_pred),\n",
    "        \"balanced_accuracy\": balanced_accuracy_score(y_true, y_pred),\n",
    "        \"auroc\": roc_auc_score(y_true, y_pred_score[:, 1], average=\"weighted\",\n",
    "                               multi_class=\"ovr\"),\n",
    "        \"f1\": f1_score(y_true, y_pred, average=\"weighted\")\n",
    "    }"
   ]
  },
  {
   "cell_type": "markdown",
   "id": "mechanical-value",
   "metadata": {},
   "source": [
    "Evaluate test set performance"
   ]
  },
  {
   "cell_type": "code",
   "execution_count": 15,
   "id": "spectacular-meaning",
   "metadata": {},
   "outputs": [
    {
     "data": {
      "text/plain": [
       "{'accuracy': 1.0, 'balanced_accuracy': 1.0, 'auroc': 1.0, 'f1': 1.0}"
      ]
     },
     "execution_count": 15,
     "metadata": {},
     "output_type": "execute_result"
    }
   ],
   "source": [
    "y_pred_score = model.predict_proba(X_test[features])\n",
    "y_pred = model.predict(X_test[features])\n",
    "performance_scores(y_test.values, y_pred_score, y_pred)"
   ]
  },
  {
   "cell_type": "markdown",
   "id": "outer-insulation",
   "metadata": {},
   "source": [
    "Predictions and actuals are identical in the test set"
   ]
  },
  {
   "cell_type": "code",
   "execution_count": 18,
   "id": "afraid-favorite",
   "metadata": {},
   "outputs": [
    {
     "name": "stdout",
     "output_type": "stream",
     "text": [
      "Predictions:\n",
      " [1 1 0 0 0 1 1 0 0 0 1 0 1 1 0 1 0 1 1 1 1 1 0 0 0 0 1 0 0 0 1 1 0 0 1 0 0\n",
      " 0 0 1 1 1 0 1 1 0 0 0 0 1 0 0 0 0 0 0 0 0 1 0 0 0 0 0 0 0 0]\n",
      "\n",
      "Actual:\n",
      " [1 1 0 0 0 1 1 0 0 0 1 0 1 1 0 1 0 1 1 1 1 1 0 0 0 0 1 0 0 0 1 1 0 0 1 0 0\n",
      " 0 0 1 1 1 0 1 1 0 0 0 0 1 0 0 0 0 0 0 0 0 1 0 0 0 0 0 0 0 0]\n"
     ]
    }
   ],
   "source": [
    "print(\"Predictions:\\n\", y_pred)\n",
    "print(\"\\nActual:\\n\", y_test.values)"
   ]
  },
  {
   "cell_type": "markdown",
   "id": "toxic-affect",
   "metadata": {},
   "source": [
    "Sanity check: make sure test set instances are not contained in the training set"
   ]
  },
  {
   "cell_type": "code",
   "execution_count": 22,
   "id": "annoying-spirit",
   "metadata": {},
   "outputs": [
    {
     "data": {
      "text/plain": [
       "array([False, False, False, False, False, False, False, False, False,\n",
       "       False, False, False, False, False, False, False, False, False,\n",
       "       False, False, False, False, False, False, False, False, False,\n",
       "       False, False, False, False, False, False, False, False, False,\n",
       "       False, False, False, False, False, False, False, False, False,\n",
       "       False, False, False, False, False, False, False, False, False,\n",
       "       False, False, False, False, False, False, False, False, False,\n",
       "       False, False, False, False])"
      ]
     },
     "execution_count": 22,
     "metadata": {},
     "output_type": "execute_result"
    }
   ],
   "source": [
    "X_test.index.isin(X_train.index)"
   ]
  },
  {
   "cell_type": "markdown",
   "id": "exempt-looking",
   "metadata": {},
   "source": [
    "## Model interpretation"
   ]
  },
  {
   "cell_type": "markdown",
   "id": "treated-emperor",
   "metadata": {},
   "source": [
    "Feature importance (top 10 features)"
   ]
  },
  {
   "cell_type": "code",
   "execution_count": 23,
   "id": "precise-measurement",
   "metadata": {},
   "outputs": [
    {
     "data": {
      "text/plain": [
       "HBB      0.008636\n",
       "HBA2     0.007421\n",
       "RPL36   -0.006290\n",
       "HSPE1    0.006089\n",
       "RPL14   -0.005836\n",
       "RPL19    0.005382\n",
       "TFR2     0.005129\n",
       "AR       0.004644\n",
       "MYL9    -0.004047\n",
       "PTMS     0.003832\n",
       "dtype: float64"
      ]
     },
     "execution_count": 23,
     "metadata": {},
     "output_type": "execute_result"
    }
   ],
   "source": [
    "model_coefs = pd.Series(index=features.values, data=model.coef_[0])\n",
    "model_coefs = model_coefs.sort_values(key=abs, ascending=False)\n",
    "model_coefs.head(10)"
   ]
  },
  {
   "cell_type": "markdown",
   "id": "dutch-delay",
   "metadata": {},
   "source": [
    "Visualize top features vs cancer state using box plots"
   ]
  },
  {
   "cell_type": "code",
   "execution_count": 45,
   "id": "bigger-sensitivity",
   "metadata": {},
   "outputs": [
    {
     "data": {
      "image/png": "[encoded data removed]",
      "text/plain": [
       "<Figure size 1152x432 with 10 Axes>"
      ]
     },
     "metadata": {
      "needs_background": "light"
     },
     "output_type": "display_data"
    }
   ],
   "source": [
    "plt.figure(figsize=(16, 6))\n",
    "top_features = model_coefs.index[:10]\n",
    "for i, feature in enumerate(top_features):\n",
    "    plt.subplot(2, 5, i+1)\n",
    "    cancer_state_to_feature_values = {\n",
    "        state: gene_expression_df.loc[response['response'] == state, feature]\n",
    "    for state in [0, 1]}\n",
    "    plt.boxplot(cancer_state_to_feature_values.values(), showfliers=False)\n",
    "    plt.xticks([1, 2], ['Primary', 'Metastatic']);\n",
    "    plt.xlabel('Prostate cancer state', fontsize=13)\n",
    "    plt.ylabel(feature, fontsize=13)\n",
    "plt.suptitle('Top 10 contributing genes to metastatic cancer state', fontsize=15)\n",
    "plt.tight_layout()"
   ]
  },
  {
   "cell_type": "code",
   "execution_count": null,
   "id": "armed-involvement",
   "metadata": {},
   "outputs": [],
   "source": []
  }
 ],
 "metadata": {
  "kernelspec": {
   "display_name": "py38",
   "language": "python",
   "name": "py38"
  },
  "language_info": {
   "codemirror_mode": {
    "name": "ipython",
    "version": 3
   },
   "file_extension": ".py",
   "mimetype": "text/x-python",
   "name": "python",
   "nbconvert_exporter": "python",
   "pygments_lexer": "ipython3",
   "version": "3.8.8"
  }
 },
 "nbformat": 4,
 "nbformat_minor": 5
}
